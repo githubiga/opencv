{
 "cells": [
  {
   "cell_type": "code",
   "execution_count": null,
   "id": "ff1cbb97",
   "metadata": {},
   "outputs": [],
   "source": [
    "#!pip install opencv-python"
   ]
  },
  {
   "cell_type": "markdown",
   "id": "f517a096",
   "metadata": {},
   "source": [
    "# OpenCV\n",
    "### Image processiong : Application1\n",
    "<a href=\"madani.a@ucd.ac.ma\">madani.a@ucd.ac.ma</a>"
   ]
  },
  {
   "cell_type": "markdown",
   "id": "529346db",
   "metadata": {},
   "source": [
    "## Exercice 1\n",
    "1.\tEn utilisant Numpy, générer trois images (trois matrices) de 200x300 pixels, l’une blanche, l’autre noire et la troisième grise.\n",
    "2.\tAfficher la résolution des images\n",
    "3.\tAfficher les images dans trois fenêtres différentes\n",
    "4.\tAfficher les images dans une seule fenêtre alignées verticalement \n",
    "5.\tAfficher les images dans une seule fenêtre alignées horizontalement"
   ]
  },
  {
   "cell_type": "markdown",
   "id": "6f620afc",
   "metadata": {},
   "source": [
    "## Exercice 2\n",
    "1.\tA partir d’une image couleur enregistrée sur le disque, afficher :\n",
    "\n",
    "    a.\tLa matrice correspondante\n",
    "    \n",
    "    b.\tLes dimensions de l’image\n",
    "    \n",
    "    c.\tLa résolution (nombre de pixels) de l’image\n",
    "    \n",
    "    d.\tLes trois couleurs de base du pixel situé à la position 0,0\n",
    "    \n",
    "2.\tDans l’image de l’exercice précédent, modifier une zone de votre choix avec une couleur bleue\n",
    "\n",
    "3.\tDans l’image précédente, tracer un cercle, une ligne et un rectangle"
   ]
  },
  {
   "cell_type": "markdown",
   "id": "43616cbb",
   "metadata": {},
   "source": [
    "## Exercice 3\n",
    "1.\tA partir d’une image contenant un groupe de personnes, encadrer les visages d’un rectangle vert\n",
    "2.\tEnregistrer ensuite ces visages en couleur sur disque, sous forme de face1.jpg, face2.jpg, …\n",
    "3.\tAfficher tous les visages enregistrés dans la question précédente"
   ]
  },
  {
   "cell_type": "markdown",
   "id": "d2cf9eda",
   "metadata": {},
   "source": [
    "## Exercice 4\n",
    "Ecrire les fonctions suivantes :\n",
    "1. euclidienne(x1, y1, x2, y2) : retourne la distance euclidienne entre les points (x1,y1) et (x2,y2).\n",
    "2. centre(x1,y1,x2,y2) : retourne le centre du rectangle défini par les deux points (x1,y1) et (x2,y2)"
   ]
  },
  {
   "cell_type": "markdown",
   "id": "5299c868",
   "metadata": {},
   "source": [
    "À partir d’une image contenant une ou plusieurs personnes, encadrer :\n",
    "1. En rouge les visages ayant une distance inférieure à un seuil donné de l’origine de l’image (point supérieur gauche) \n",
    "2. En vert les visages ayant une distance supérieure à un seuil donné de l’origine de l’image (point supérieur gauche) "
   ]
  }
 ],
 "metadata": {
  "kernelspec": {
   "display_name": "Python 3",
   "language": "python",
   "name": "python3"
  },
  "language_info": {
   "codemirror_mode": {
    "name": "ipython",
    "version": 3
   },
   "file_extension": ".py",
   "mimetype": "text/x-python",
   "name": "python",
   "nbconvert_exporter": "python",
   "pygments_lexer": "ipython3",
   "version": "3.8.8"
  }
 },
 "nbformat": 4,
 "nbformat_minor": 5
}
